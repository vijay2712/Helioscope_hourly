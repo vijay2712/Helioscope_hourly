{
  "nbformat": 4,
  "nbformat_minor": 0,
  "metadata": {
    "colab": {
      "name": "Python_hourly.ipynb",
      "provenance": []
    },
    "kernelspec": {
      "name": "python3",
      "display_name": "Python 3"
    },
    "language_info": {
      "name": "python"
    }
  },
  "cells": [
    {
      "cell_type": "code",
      "source": [
        "import requests\n",
        "\n",
        "url = \"https://www.helioscope.com/api/simulations/8131309/hourly\"\n",
        "\n",
        "payload={}\n",
        "headers = {\n",
        "  'access_token': 'AjVPDLk1IskXnU4yQr8sthSCWY1Jt6',\n",
        "}\n",
        "\n",
        "response = requests.request(\"GET\", url, headers=headers, data=payload)\n",
        "\n",
        "with open('Helioscope.zip', \"wb\") as f:\n",
        "    for chunk in response.iter_content(chunk_size=512):\n",
        "        if chunk:  # filter out keep-alive new chunks\n",
        "            f.write(chunk)"
      ],
      "metadata": {
        "id": "jFA3dFXP_dvh"
      },
      "execution_count": 13,
      "outputs": []
    },
    {
      "cell_type": "code",
      "source": [
        ""
      ],
      "metadata": {
        "id": "XMJpezyXlLEv"
      },
      "execution_count": null,
      "outputs": []
    }
  ]
}